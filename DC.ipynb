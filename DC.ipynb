{
 "cells": [
  {
   "cell_type": "markdown",
   "metadata": {},
   "source": [
    "# Algoritmos de Centralidad - Grado de Centralidad\n",
    "\n",
    "## Descripcion del Tipo de Algoritmo \n",
    "\n",
    "\n",
    "\n",
    "Los algoritmos de centralidad se utilizan para determinar la importancia de distintos nodos en una red."
   ]
  },
  {
   "cell_type": "markdown",
   "metadata": {},
   "source": [
    "## Descripcion del Algoritmo"
   ]
  },
  {
   "cell_type": "markdown",
   "metadata": {},
   "source": [
    "Este algoritmo mide el número de relaciones entrantes y salientes de un nodo, es la medida más simple y directa de las medidas de centralidad Esta corresponde en términos simples al número de enlaces o conexiones que posee un vértice con el resto de los nodos pertenecientes a un grafo. Esta medida fue propuesta por Linton C. Freeman en un documento en 1979.\n",
    "Es dedicado a realizar la estimación del grado de centralidad mas utilizado para detectar la popularidad o el grado de influencia individual que posee un vértice dentro de un grado, también ayuda a realizar análisis total para detectar un grado mínimo, medio, máximo y la desviación estándar que existe de un grafo.\n"
   ]
  },
  {
   "cell_type": "markdown",
   "metadata": {},
   "source": [
    "# Proceso del algoritmo en Neo4j\n",
    "\n",
    "\n",
    "\n",
    "1.\tConstruir un grafo con toda la información:\n",
    "\n",
    "2. Lo siguiente ejecutara el algoritmo y los resultados de los usuarios que tienen mas seguidores en la Red Social\n",
    "          \n",
    "3. Lo siguiente ejecutara el algoritmo y los resultados de la transmision, mostrando que usuarios siguen a la mayoria de los otros usuarios."
   ]
  },
  {
   "cell_type": "markdown",
   "metadata": {},
   "source": [
    "## Ejemplo Sencillo"
   ]
  },
  {
   "cell_type": "markdown",
   "metadata": {},
   "source": [
    "# Paso 1"
   ]
  },
  {
   "cell_type": "markdown",
   "metadata": {},
   "source": [
    "CREATE (alice:User {name: 'Alice'}),\n",
    "           \n",
    "           (bridget:User {name: 'Bridget'}),\n",
    "           (charles:User {name: 'Charles'}),\n",
    "           (doug:User {name: 'Doug'}),\n",
    "           (mark:User {name: 'Mark'}),\n",
    "           (michael:User {name: 'Michael'}),\n",
    "           (alice)-[:FOLLOWS]->(doug),\n",
    "           (alice)-[:FOLLOWS]->(bridget),\n",
    "           (alice)-[:FOLLOWS]->(charles),\n",
    "           (mark)-[:FOLLOWS]->(doug),\n",
    "           (mark)-[:FOLLOWS]->(michael),\n",
    "           (bridget)-[:FOLLOWS]->(doug),\n",
    "           (charles)-[:FOLLOWS]->(doug),\n",
    "           (michael)-[:FOLLOWS]->(doug) \n",
    "    \n",
    "            \n",
    "<img src=\"DC Nodos.JPG\">\n"
   ]
  },
  {
   "cell_type": "markdown",
   "metadata": {},
   "source": [
    "## Paso 2\n",
    "\n",
    "    CALL gds.alpha.degree.stream({\n",
    "      nodeProjection: 'User',\n",
    "      relationshipProjection: {\n",
    "        FOLLOWS: {\n",
    "          type: 'FOLLOWS',\n",
    "          orientation: 'REVERSE'\n",
    "        }\n",
    "      }\n",
    "    })\n",
    "    YIELD nodeId, score\n",
    "    RETURN gds.util.asNode(nodeId).name AS name, score AS followers\n",
    "    ORDER BY followers DESC\n",
    "\n",
    "<img src=\"DC Follows.JPG\">"
   ]
  },
  {
   "cell_type": "markdown",
   "metadata": {},
   "source": [
    "# Paso 3\n",
    "\n",
    "    CALL gds.alpha.degree.stream({\n",
    "      nodeProjection: 'User',\n",
    "      relationshipProjection: 'FOLLOWS'\n",
    "    })\n",
    "    YIELD nodeId, score\n",
    "    RETURN gds.util.asNode(nodeId).name AS name, score AS followers\n",
    "    ORDER BY followers DESC\n",
    "    \n",
    "<img src=\"DC Seguidos.JPG\">"
   ]
  },
  {
   "cell_type": "markdown",
   "metadata": {},
   "source": [
    "# Uso del algoritmo desde Python "
   ]
  },
  {
   "cell_type": "code",
   "execution_count": 17,
   "metadata": {},
   "outputs": [
    {
     "name": "stdout",
     "output_type": "stream",
     "text": [
      "Resultado numero de Seguidores\n",
      " \n",
      "Persona  ->  Followers\n",
      "Doug  ->  5.0\n",
      "Bridget  ->  1.0\n",
      "Charles  ->  1.0\n",
      "Michael  ->  1.0\n",
      "Alice  ->  0.0\n",
      "Mark  ->  0.0\n",
      " \n",
      "Resultado numero de usuarios siguiendo\n",
      " \n",
      "Persona  ->  Following\n",
      "Alice  ->  3.0\n",
      "Mark  ->  2.0\n",
      "Bridget  ->  1.0\n",
      "Charles  ->  1.0\n",
      "Michael  ->  1.0\n",
      "Doug  ->  0.0\n"
     ]
    }
   ],
   "source": [
    "from neo4j import GraphDatabase\n",
    "\n",
    "uri = \"bolt://localhost:7687\"\n",
    "driver = GraphDatabase.driver(uri, auth=(\"neo4j\", \"nikoap77\"),encrypted=False)\n",
    "\n",
    "persona = []\n",
    "nfolls = []\n",
    "\n",
    "def degreeCentrality(tx):\n",
    "    result = tx.run(\"CALL gds.alpha.degree.stream({ \"\n",
    "                    \"nodeProjection: 'User', \"\n",
    "                    \"relationshipProjection: { \"\n",
    "                    \"FOLLOWS: { \"\n",
    "                    \"type: 'FOLLOWS', \"\n",
    "                    \"orientation: 'REVERSE'}}}) \"\n",
    "                    \"YIELD nodeId, score \"\n",
    "                    \"RETURN gds.util.asNode(nodeId).name AS name, score AS followers \"\n",
    "                    \"ORDER BY followers DESC\")\n",
    "    for record in result:\n",
    "        persona.append(record[\"name\"])\n",
    "        nfolls.append(record[\"followers\"])\n",
    "\n",
    "usuarios = []\n",
    "nfollowing = []\n",
    "\n",
    "def degreeCentralityFollowing(tx):\n",
    "    result = tx.run(\"CALL gds.alpha.degree.stream({ \"\n",
    "                    \"nodeProjection: 'User', \"\n",
    "                    \"relationshipProjection: 'FOLLOWS' \"\n",
    "                    \"}) \"\n",
    "                    \"YIELD nodeId, score \"\n",
    "                    \"RETURN gds.util.asNode(nodeId).name AS name, score AS followers \"\n",
    "                    \"ORDER BY followers DESC\")\n",
    "    for record in result:\n",
    "        usuarios.append(record[\"name\"])\n",
    "        nfollowing.append(record[\"followers\"])\n",
    "        \n",
    "        \n",
    "        \n",
    "        \n",
    "        \n",
    "\n",
    "with driver.session() as session:\n",
    "    session.read_transaction(degreeCentrality)\n",
    "    print(\"Resultado numero de Seguidores\")\n",
    "    print(\" \")\n",
    "    print(\"Persona\" ,\" -> \", \"Followers\")\n",
    "    for i in range(len(persona)):\n",
    "        print(persona[i] ,\" -> \", nfolls[i])\n",
    "    print(\" \")\n",
    "        \n",
    "    session.read_transaction(degreeCentralityFollowing)\n",
    "    print(\"Resultado numero de usuarios siguiendo\")\n",
    "    print(\" \")\n",
    "    print(\"Persona\" ,\" -> \", \"Following\")\n",
    "    for i in range(len(usuarios)):\n",
    "        print(usuarios[i] ,\" -> \", nfollowing[i])\n",
    "        \n",
    "driver.close()\n",
    "\n",
    "\n"
   ]
  },
  {
   "cell_type": "markdown",
   "metadata": {},
   "source": [
    "# Ejemplificacion  usando datos reales."
   ]
  },
  {
   "cell_type": "code",
   "execution_count": 8,
   "metadata": {},
   "outputs": [
    {
     "name": "stdout",
     "output_type": "stream",
     "text": [
      "Resultado numero de rutas salientes\n",
      " \n",
      "Iglesia  ->  # Rutas Salientes\n",
      "I. La Merced  ->  4.0\n",
      "I. Biblica Cristiana  ->  3.0\n",
      "I. Universal del Reino de Dios  ->  2.0\n",
      "I. Catolica Señor de la Buena Esperanza  ->  2.0\n",
      "I. Catolica Santa Gema  ->  2.0\n",
      "I. Catolica Nuestra Señora de los Angeles   ->  2.0\n",
      "I. San Alejo  ->  2.0\n",
      "I. Catolica San Judas Tadeo  ->  2.0\n",
      "I. La Redonda Urdesa  ->  2.0\n",
      "I. El Sagrario  ->  2.0\n",
      "I. Catolica Santo Domingo de Guzman  ->  1.0\n",
      "I. San Jose  ->  1.0\n",
      "I. Galilea  ->  0.0\n",
      "I. Nuestra Señora de Fatima  ->  0.0\n",
      " \n",
      "Resultado numero de rutas entrantes\n",
      " \n",
      "Iglesia  ->  # Rutas Entrantes\n",
      "I. Nuestra Señora de Fatima  ->  6.0\n",
      "I. Galilea  ->  3.0\n",
      "I. Universal del Reino de Dios  ->  2.0\n",
      "I. Catolica Señor de la Buena Esperanza  ->  2.0\n",
      "I. Biblica Cristiana  ->  2.0\n",
      "I. Catolica Santa Gema  ->  2.0\n",
      "I. Catolica Santo Domingo de Guzman  ->  2.0\n",
      "I. La Redonda Urdesa  ->  2.0\n",
      "I. Catolica Nuestra Señora de los Angeles   ->  1.0\n",
      "I. San Alejo  ->  1.0\n",
      "I. San Jose  ->  1.0\n",
      "I. El Sagrario  ->  1.0\n",
      "I. La Merced  ->  0.0\n",
      "I. Catolica San Judas Tadeo  ->  0.0\n",
      " \n"
     ]
    }
   ],
   "source": [
    "from neo4j import GraphDatabase\n",
    "\n",
    "uri = \"bolt://localhost:7687\"\n",
    "driver = GraphDatabase.driver(uri, auth=(\"neo4j\", \"nikoap77\"),encrypted=False)\n",
    "\n",
    "iglesias = []\n",
    "nfollowing = []\n",
    "def degreeCentrality(tx):\n",
    "    result = tx.run(\"CALL gds.alpha.degree.stream({ \"\n",
    "                    \"nodeProjection: 'Iglesia', \"\n",
    "                    \"relationshipProjection: 'CONNECTION' \"\n",
    "                    \"}) \"\n",
    "                    \"YIELD nodeId, score \"\n",
    "                    \"RETURN gds.util.asNode(nodeId).nombre AS name, score AS following \"\n",
    "                    \"ORDER BY following DESC\")\n",
    "    for record in result:\n",
    "        iglesias.append(record[\"name\"])\n",
    "        nfollowing.append(record[\"following\"])\n",
    "        \n",
    "iglesias1 = []\n",
    "nfollowing1 = []\n",
    "def degreeCentrality1(tx):\n",
    "    result = tx.run(\"CALL gds.alpha.degree.stream({ \"\n",
    "                    \"nodeProjection: 'Iglesia', \"\n",
    "                    \"relationshipProjection: { \"\n",
    "                    \"FOLLOWS: { \"\n",
    "                    \"type: 'CONNECTION', \"\n",
    "                    \"orientation: 'REVERSE' \"\n",
    "                    \"} \"\n",
    "                    \"} \"\n",
    "                    \"}) \" \n",
    "                    \"YIELD nodeId, score \"\n",
    "                    \"RETURN gds.util.asNode(nodeId).nombre AS name, score AS followers \"\n",
    "                    \"ORDER BY followers DESC\")\n",
    "    for record in result:\n",
    "        iglesias1.append(record[\"name\"])\n",
    "        nfollowing1.append(record[\"followers\"])\n",
    "        \n",
    "        \n",
    "with driver.session() as session:\n",
    "    session.read_transaction(degreeCentrality)\n",
    "    print(\"Resultado numero de rutas salientes\")\n",
    "    print(\" \")\n",
    "    print(\"Iglesia\" ,\" -> \", \"# Rutas Salientes\")\n",
    "    for i in range(len(iglesias)):\n",
    "        print(iglesias[i] ,\" -> \", nfollowing[i])\n",
    "    print(\" \")\n",
    "    \n",
    "    session.read_transaction(degreeCentrality1)\n",
    "    print(\"Resultado numero de rutas entrantes\")\n",
    "    print(\" \")\n",
    "    print(\"Iglesia\" ,\" -> \", \"# Rutas Entrantes\")\n",
    "    for i in range(len(iglesias1)):\n",
    "        print(iglesias1[i] ,\" -> \", nfollowing1[i])\n",
    "    print(\" \")\n",
    "        \n",
    "\n",
    "\n"
   ]
  },
  {
   "cell_type": "markdown",
   "metadata": {},
   "source": [
    "# Resultados y Analisis."
   ]
  },
  {
   "cell_type": "markdown",
   "metadata": {},
   "source": [
    "# Mejoras y recomendaciones\n",
    "\n",
    "Revisar bien la documentacion ya que en la pagina de Neo4j existen errores o algunas librerias se han actualizado.\n"
   ]
  },
  {
   "cell_type": "markdown",
   "metadata": {},
   "source": [
    "# Conclusiones y trabajos futuros"
   ]
  }
 ],
 "metadata": {
  "kernelspec": {
   "display_name": "Python 3",
   "language": "python",
   "name": "python3"
  },
  "language_info": {
   "codemirror_mode": {
    "name": "ipython",
    "version": 3
   },
   "file_extension": ".py",
   "mimetype": "text/x-python",
   "name": "python",
   "nbconvert_exporter": "python",
   "pygments_lexer": "ipython3",
   "version": "3.7.3"
  }
 },
 "nbformat": 4,
 "nbformat_minor": 2
}
