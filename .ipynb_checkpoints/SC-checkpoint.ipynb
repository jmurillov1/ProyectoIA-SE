{
 "cells": [
  {
   "cell_type": "markdown",
   "metadata": {},
   "source": [
    "# Algoritmos de Predicción de Enlaces - Misma Comunidad\n",
    "\n",
    "## Introducción al Tipo de Algoritmo\n",
    "\n",
    "Los algoritmos de predicción de enlaces ayudan a determinar la cercanía de un par de nodos. Los puntajes calculados se pueden usar para predecir nuevas relaciones entre ellos.\n",
    "\n",
    "## Descripción del Algoritmo\n",
    "\n",
    "La misma comunidad es una forma de determinar si dos nodos pertenecen a la misma comunidad. Si el algoritmo devuelve uno los nodos pertenecer a la misma comunidad si devuelve cero no pertenecen a la misma comunidad.\n",
    "\n",
    "## Proceso \n",
    "\n",
    "1. Debemos crear el grafo de nodos para su posterior análisis con ayuda del algoritmo.\n",
    "\n",
    "2. Utilizar el algoritmo con el grafo creado del proceso anterior. \n",
    "\n",
    "Nota: se debe tener propiedades para hacer la comparación."
   ]
  },
  {
   "cell_type": "markdown",
   "metadata": {},
   "source": [
    "## Ejemplos Sencillos\n",
    "\n",
    "Seguir los pasos anteriores:\n",
    "\n",
    "Paso 1"
   ]
  },
  {
   "cell_type": "raw",
   "metadata": {},
   "source": [
    "CREATE (zhen:Person {name: 'Zhen', community: 1}),\n",
    "       (praveena:Person {name: 'Praveena', community: 2}),\n",
    "       (michael:Person {name: 'Michael', community: 1}),\n",
    "       (arya:Person {name: 'Arya', partition: 5}),\n",
    "       (karin:Person {name: 'Karin', partition: 5}),\n",
    "       (jennifer:Person {name: 'Jennifer'});"
   ]
  },
  {
   "cell_type": "markdown",
   "metadata": {},
   "source": [
    "### Resultado Neo4j\n",
    "\n",
    "<img src=\"sc1.png\">"
   ]
  },
  {
   "cell_type": "markdown",
   "metadata": {},
   "source": [
    "Paso 2\n",
    "\n",
    "Vamos a calcular si Michael y Zhen pertenecer a la misma comunidad."
   ]
  },
  {
   "cell_type": "raw",
   "metadata": {},
   "source": [
    "MATCH (p1:Person {name: 'Michael'})\n",
    "MATCH (p2:Person {name: 'Zhen'})\n",
    "RETURN gds.alpha.linkprediction.sameCommunity(p1, p2) AS score"
   ]
  },
  {
   "cell_type": "markdown",
   "metadata": {},
   "source": [
    "### Resultado Neo4j\n",
    "\n",
    "<img src=\"sc2.png\">"
   ]
  },
  {
   "cell_type": "markdown",
   "metadata": {},
   "source": [
    "Vamos a calcular si Michael y Praveena pertenecer a la misma comunidad."
   ]
  },
  {
   "cell_type": "raw",
   "metadata": {},
   "source": [
    "MATCH (p1:Person {name: 'Michael'})\n",
    "MATCH (p2:Person {name: 'Praveena'})\n",
    "RETURN gds.alpha.linkprediction.sameCommunity(p1, p2) AS score"
   ]
  },
  {
   "cell_type": "markdown",
   "metadata": {},
   "source": [
    "### Resultado Neo4j\n",
    "\n",
    "<img src=\"sc3.png\">"
   ]
  },
  {
   "cell_type": "markdown",
   "metadata": {},
   "source": [
    "Vamos a calcular si Michael y Praveena pertenecer a la misma comunidad mediante una propiedad especifica, en este caso la particion."
   ]
  },
  {
   "cell_type": "raw",
   "metadata": {},
   "source": [
    "MATCH (p1:Person {name: 'Arya'})\n",
    "MATCH (p2:Person {name: 'Karin'})\n",
    "RETURN gds.alpha.linkprediction.sameCommunity(p1, p2, 'partition') AS score"
   ]
  },
  {
   "cell_type": "markdown",
   "metadata": {},
   "source": [
    "### Resultado Neo4j\n",
    "\n",
    "<img src=\"sc4.png\">"
   ]
  },
  {
   "cell_type": "markdown",
   "metadata": {},
   "source": [
    "## Llamada desde Python"
   ]
  },
  {
   "cell_type": "code",
   "execution_count": 6,
   "metadata": {},
   "outputs": [
    {
     "name": "stdout",
     "output_type": "stream",
     "text": [
      "Misma Comunidad\n",
      "-------------------------------------------------------------\n",
      "Solución\n",
      "Valor\n",
      "1.0\n"
     ]
    }
   ],
   "source": [
    "from neo4j import GraphDatabase\n",
    "\n",
    "uri = \"bolt://localhost:7687\"\n",
    "driver = GraphDatabase.driver(uri, auth=(\"neo4j\", \"5658\"),encrypted=False)\n",
    "    \n",
    "comunidad = []\n",
    "def get_ed(tx):\n",
    "    result = tx.run(\"MATCH (p1:Person {name: 'Michael'}) \"\n",
    "                    \"MATCH (p2:Person {name: 'Zhen'}) \"\n",
    "                    \"RETURN gds.alpha.linkprediction.sameCommunity(p1, p2) AS score\")\n",
    "    for record in result:\n",
    "        comunidad.append(record[\"score\"])\n",
    "\n",
    "print(\"Misma Comunidad\")\n",
    "print(\"-------------------------------------------------------------\")\n",
    "with driver.session() as session:\n",
    "    session.read_transaction(get_ed)\n",
    "    print(\"Solución\")\n",
    "    print(\"Valor\")\n",
    "    for i in range(len(comunidad)):\n",
    "        print(comunidad[i])\n",
    "                       \n",
    "driver.close()"
   ]
  },
  {
   "cell_type": "code",
   "execution_count": 5,
   "metadata": {},
   "outputs": [
    {
     "name": "stdout",
     "output_type": "stream",
     "text": [
      "Misma Comunidad\n",
      "-------------------------------------------------------------\n",
      "Solución\n",
      "Valor\n",
      "0.0\n"
     ]
    }
   ],
   "source": [
    "from neo4j import GraphDatabase\n",
    "\n",
    "uri = \"bolt://localhost:7687\"\n",
    "driver = GraphDatabase.driver(uri, auth=(\"neo4j\", \"5658\"),encrypted=False)\n",
    "    \n",
    "comunidad = []\n",
    "def get_ed(tx):\n",
    "    result = tx.run(\"MATCH (p1:Person {name: 'Michael'}) \"\n",
    "                    \"MATCH (p2:Person {name: 'Praveena'}) \"\n",
    "                    \"RETURN gds.alpha.linkprediction.sameCommunity(p1, p2) AS score\")\n",
    "    for record in result:\n",
    "        comunidad.append(record[\"score\"])\n",
    "\n",
    "print(\"Misma Comunidad\")\n",
    "print(\"-------------------------------------------------------------\")\n",
    "with driver.session() as session:\n",
    "    session.read_transaction(get_ed)\n",
    "    print(\"Solución\")\n",
    "    print(\"Valor\")\n",
    "    for i in range(len(comunidad)):\n",
    "        print(comunidad[i])\n",
    "                       \n",
    "driver.close()"
   ]
  },
  {
   "cell_type": "code",
   "execution_count": null,
   "metadata": {},
   "outputs": [],
   "source": []
  }
 ],
 "metadata": {
  "kernelspec": {
   "display_name": "Python 3",
   "language": "python",
   "name": "python3"
  },
  "language_info": {
   "codemirror_mode": {
    "name": "ipython",
    "version": 3
   },
   "file_extension": ".py",
   "mimetype": "text/x-python",
   "name": "python",
   "nbconvert_exporter": "python",
   "pygments_lexer": "ipython3",
   "version": "3.7.6"
  }
 },
 "nbformat": 4,
 "nbformat_minor": 4
}
