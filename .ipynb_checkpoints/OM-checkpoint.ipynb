{
 "cells": [
  {
   "cell_type": "markdown",
   "metadata": {},
   "source": [
    "# Algoritmos de Detección de Comunidad - Optimización de Modularidad\n",
    "\n",
    "## Introducción al Tipo de Algoritmo\n",
    "\n",
    "Los algoritmos de detección de comunidad se utilizan para evaluar cómo se agrupan o particionan los grupos de nodos, así como su tendencia a fortalecerse o separarse.\n",
    "\n",
    "## Descripción del Algoritmo\n",
    "\n",
    "El algoritmo de optimización de modularidad intenta detectar comunidades en el gráfico en función de su modularidad. La modularidad es una medida de la estructura de un gráfico, que mide la densidad de las conexiones dentro de un módulo o comunidad. Los gráficos con un alto puntaje de modularidad tendrán muchas conexiones dentro de una comunidad, pero solo unos pocos señalarán hacia otras comunidades. El algoritmo explorará para cada nodo si su puntaje de modularidad podría aumentar si cambia su comunidad a uno de sus nodos vecinos.\n",
    "\n",
    "## Proceso \n",
    "\n",
    "1. Debemos crear el grafo de nodos para su posterior análisis con ayuda del algoritmo.\n",
    "\n",
    "2. Crear un gráfico a partir de los nodos que usara el algoritmo.\n",
    "\n",
    "3. Utilizar el algoritmo con el grafico creado del proceso anterior. \n",
    "\n",
    "Nota: Utilizar en algoritmo en modo stream para no modificar los datos guardados en la base."
   ]
  },
  {
   "cell_type": "markdown",
   "metadata": {},
   "source": [
    "## Ejemplos Sencillos\n",
    "\n",
    "Seguir los pasos anteriores:\n",
    "\n",
    "Paso 1"
   ]
  },
  {
   "cell_type": "raw",
   "metadata": {},
   "source": [
    "CREATE\n",
    "  (a:Person {name:'Alice'}), \n",
    "  (b:Person {name:'Bridget'}), \n",
    "  (c:Person {name:'Charles'}), \n",
    "  (d:Person {name:'Doug'}),\n",
    "  (e:Person {name:'Elton'}),\n",
    "  (f:Person {name:'Frank'}),\n",
    "  (a)-[:KNOWS {weight: 0.01}]->(b),\n",
    "  (a)-[:KNOWS {weight: 5.0}]->(e),\n",
    "  (a)-[:KNOWS {weight: 5.0}]->(f),\n",
    "  (b)-[:KNOWS {weight: 5.0}]->(c),\n",
    "  (b)-[:KNOWS {weight: 5.0}]->(d),\n",
    "  (c)-[:KNOWS {weight: 0.01}]->(e),\n",
    "  (f)-[:KNOWS {weight: 0.01}]->(d);"
   ]
  },
  {
   "cell_type": "markdown",
   "metadata": {},
   "source": [
    "### Resultado Neo4j\n",
    "\n",
    "<img src=\"mo1.png\">"
   ]
  },
  {
   "cell_type": "markdown",
   "metadata": {},
   "source": [
    "Paso 2"
   ]
  },
  {
   "cell_type": "raw",
   "metadata": {},
   "source": [
    "CALL gds.graph.create(\n",
    "    'myGraph',\n",
    "    'Person',\n",
    "    {\n",
    "        KNOWS: {\n",
    "            type: 'KNOWS',\n",
    "            orientation: 'UNDIRECTED',\n",
    "            properties: ['weight']\n",
    "        }\n",
    "    })"
   ]
  },
  {
   "cell_type": "markdown",
   "metadata": {},
   "source": [
    "### Resultado Neo4j\n",
    "\n",
    "<img src=\"mo2.png\">"
   ]
  },
  {
   "cell_type": "markdown",
   "metadata": {},
   "source": [
    "Paso 3"
   ]
  },
  {
   "cell_type": "raw",
   "metadata": {},
   "source": [
    "CALL gds.beta.modularityOptimization.stream('myGraph', { relationshipWeightProperty: 'weight' })\n",
    "YIELD nodeId, communityId\n",
    "RETURN gds.util.asNode(nodeId).name AS name, communityId\n",
    "ORDER BY name"
   ]
  },
  {
   "cell_type": "markdown",
   "metadata": {},
   "source": [
    "### Resultado Neo4j\n",
    "\n",
    "<img src=\"mo3.png\">"
   ]
  },
  {
   "cell_type": "markdown",
   "metadata": {},
   "source": [
    "Este gráfico consta de dos nodos centrales \"Alice\" y \"Bridget\", cada uno de los cuales tiene dos vecinos más. Además, cada vecino de \"Alice\" está conectado a uno de los vecinos de \"Bridget\". Al observar los pesos de las relaciones, se puede ver que las conexiones de los dos nodos centrales a sus vecinos son muy fuertes, mientras que las conexiones entre esos grupos son débiles. Por lo tanto, el algoritmo de optimización de modularidad debería detectar dos comunidades: \"Alice\" y \"Bridget\" junto con sus vecinos, respectivamente.\n",
    "\n",
    "## Llamada desde Python"
   ]
  },
  {
   "cell_type": "code",
   "execution_count": 4,
   "metadata": {},
   "outputs": [
    {
     "name": "stdout",
     "output_type": "stream",
     "text": [
      "Optimización de Modularidad\n",
      "-------------------------------------------------------------\n",
      "Solución\n",
      "Persona   ->  Id Comunidad\n",
      "Alice  ->  4\n",
      "Bridget  ->  1\n",
      "Charles  ->  1\n",
      "Doug  ->  1\n",
      "Elton  ->  4\n",
      "Frank  ->  4\n"
     ]
    }
   ],
   "source": [
    "from neo4j import GraphDatabase\n",
    "\n",
    "uri = \"bolt://localhost:7687\"\n",
    "driver = GraphDatabase.driver(uri, auth=(\"neo4j\", \"5658\"),encrypted=False)\n",
    "    \n",
    "personas = []\n",
    "comunidad = []\n",
    "def get_mo(tx):\n",
    "    result = tx.run(\"CALL gds.beta.modularityOptimization.stream('myGraph', \"\n",
    "                    \"{ relationshipWeightProperty: 'weight' }) \"\n",
    "                    \"YIELD nodeId, communityId \"\n",
    "                    \"RETURN gds.util.asNode(nodeId).name AS name, communityId \"\n",
    "                    \"ORDER BY name\")\n",
    "    for record in result:\n",
    "        personas.append(record[\"name\"])\n",
    "        comunidad.append(record[\"communityId\"])\n",
    "\n",
    "print(\"Optimización de Modularidad\")\n",
    "print(\"-------------------------------------------------------------\")\n",
    "with driver.session() as session:\n",
    "    ciudades = session.read_transaction(get_mo)\n",
    "    print(\"Solución\")\n",
    "    print(\"Persona \", \" -> \", \"Id Comunidad\")\n",
    "    for i in range(len(personas)):\n",
    "        print(personas[i], \" -> \", comunidad[i])\n",
    "                       \n",
    "driver.close()"
   ]
  }
 ],
 "metadata": {
  "kernelspec": {
   "display_name": "Python 3",
   "language": "python",
   "name": "python3"
  },
  "language_info": {
   "codemirror_mode": {
    "name": "ipython",
    "version": 3
   },
   "file_extension": ".py",
   "mimetype": "text/x-python",
   "name": "python",
   "nbconvert_exporter": "python",
   "pygments_lexer": "ipython3",
   "version": "3.7.6"
  }
 },
 "nbformat": 4,
 "nbformat_minor": 4
}
