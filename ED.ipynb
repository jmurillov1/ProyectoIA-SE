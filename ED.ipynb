{
 "cells": [
  {
   "cell_type": "markdown",
   "metadata": {},
   "source": [
    "# Algoritmos de Similitud - Distancia Euclideana\n",
    "\n",
    "## Introducción al Tipo de Algoritmo\n",
    "\n",
    "Los algoritmos de similitud calculan la similitud de pares de nodos utilizando diferentes métricas basadas en vectores.\n",
    "\n",
    "## Descripción del Algoritmo\n",
    "\n",
    "La distancia euclidiana mide la distancia en línea recta entre dos puntos en el espacio n-dimensional.\n",
    "Formula\n",
    "\n",
    "<img src=\"ed1.png\">\n",
    "\n",
    "La biblioteca contiene procedimientos y funciones para calcular la similitud entre conjuntos de datos. La función se utiliza mejor al calcular la similitud entre pequeños números de conjuntos. Los procedimientos paralelizan el cálculo y, por lo tanto, son más apropiados para calcular similitudes en conjuntos de datos más grandes.\n",
    "\n",
    "## Proceso \n",
    "\n",
    "1. Debemos crear el grafo de nodos para su posterior análisis con ayuda del algoritmo.\n",
    "\n",
    "2. Utilizar el algoritmo con el grafo creado del proceso anterior. \n",
    "\n",
    "Nota: Par utilizar el agoritmo deben existir valores numericos para compara entre nodos, se genera un arreglo para cada nodo el cual debe tener la misma longitud en todos los casos."
   ]
  },
  {
   "cell_type": "markdown",
   "metadata": {},
   "source": [
    "## Ejemplos Sencillos\n",
    "\n",
    "Seguir los pasos anteriores:\n",
    "\n",
    "Paso 1"
   ]
  },
  {
   "cell_type": "raw",
   "metadata": {},
   "source": [
    " MERGE (french:Cuisine {name:'French'})\n",
    " MERGE (italian:Cuisine {name:'Italian'})\n",
    " MERGE (indian:Cuisine {name:'Indian'})\n",
    " MERGE (lebanese:Cuisine {name:'Lebanese'})\n",
    " MERGE (portuguese:Cuisine {name:'Portuguese'})\n",
    " MERGE (british:Cuisine {name:'British'})\n",
    " MERGE (mauritian:Cuisine {name:'Mauritian'})\n",
    "\n",
    " MERGE (zhen:Person {name: \"Zhen\"})\n",
    " MERGE (praveena:Person {name: \"Praveena\"})\n",
    " MERGE (michael:Person {name: \"Michael\"})\n",
    " MERGE (arya:Person {name: \"Arya\"})\n",
    " MERGE (karin:Person {name: \"Karin\"})\n",
    "\n",
    " MERGE (praveena)-[:LIKES {score: 9}]->(indian)\n",
    " MERGE (praveena)-[:LIKES {score: 7}]->(portuguese)\n",
    " MERGE (praveena)-[:LIKES {score: 8}]->(british)\n",
    " MERGE (praveena)-[:LIKES {score: 1}]->(mauritian)\n",
    "\n",
    " MERGE (zhen)-[:LIKES {score: 10}]->(french)\n",
    " MERGE (zhen)-[:LIKES {score: 6}]->(indian)\n",
    " MERGE (zhen)-[:LIKES {score: 2}]->(british)\n",
    "\n",
    " MERGE (michael)-[:LIKES {score: 8}]->(french)\n",
    " MERGE (michael)-[:LIKES {score: 7}]->(italian)\n",
    " MERGE (michael)-[:LIKES {score: 9}]->(indian)\n",
    " MERGE (michael)-[:LIKES {score: 3}]->(portuguese)\n",
    "\n",
    " MERGE (arya)-[:LIKES {score: 10}]->(lebanese)\n",
    " MERGE (arya)-[:LIKES {score: 10}]->(italian)\n",
    " MERGE (arya)-[:LIKES {score: 7}]->(portuguese)\n",
    " MERGE (arya)-[:LIKES {score: 9}]->(mauritian)\n",
    "\n",
    " MERGE (karin)-[:LIKES {score: 9}]->(lebanese)\n",
    " MERGE (karin)-[:LIKES {score: 7}]->(italian)\n",
    " MERGE (karin)-[:LIKES {score: 10}]->(portuguese)"
   ]
  },
  {
   "cell_type": "markdown",
   "metadata": {},
   "source": [
    "### Resultado Neo4j\n",
    "\n",
    "<img src=\"ed2.png\">"
   ]
  },
  {
   "cell_type": "markdown",
   "metadata": {},
   "source": [
    "Paso 2\n",
    "\n",
    "Vamos a calcular la similitud entre Zhen y Praveena"
   ]
  },
  {
   "cell_type": "raw",
   "metadata": {},
   "source": [
    " MATCH (p1:Person {name: 'Zhen'})-[likes1:LIKES]->(cuisine)\n",
    " MATCH (p2:Person {name: 'Praveena'})-[likes2:LIKES]->(cuisine)\n",
    " RETURN p1.name AS from,\n",
    "        p2.name AS to,\n",
    "        gds.alpha.similarity.euclideanDistance(collect(likes1.score), collect(likes2.score)) AS similarity"
   ]
  },
  {
   "cell_type": "markdown",
   "metadata": {},
   "source": [
    "### Resultado Neo4j\n",
    "\n",
    "<img src=\"ed3.png\">"
   ]
  },
  {
   "cell_type": "markdown",
   "metadata": {},
   "source": [
    "Vamos a calcular la similitud entre Zhen y todas las personas con las que se relaciona."
   ]
  },
  {
   "cell_type": "raw",
   "metadata": {},
   "source": [
    "MATCH (p1:Person {name: 'Zhen'})-[likes1:LIKES]->(cuisine)\n",
    " MATCH (p2:Person)-[likes2:LIKES]->(cuisine) WHERE p1 <> p2\n",
    " RETURN p1.name AS from,\n",
    "        p2.name AS to,\n",
    "        gds.alpha.similarity.euclideanDistance(collect(likes1.score), collect(likes2.score)) AS similarity"
   ]
  },
  {
   "cell_type": "markdown",
   "metadata": {},
   "source": [
    "### Resultado Neo4j\n",
    "\n",
    "<img src=\"ed4.png\">"
   ]
  },
  {
   "cell_type": "markdown",
   "metadata": {},
   "source": [
    "## Llamada desde Python"
   ]
  },
  {
   "cell_type": "code",
   "execution_count": 9,
   "metadata": {},
   "outputs": [
    {
     "name": "stdout",
     "output_type": "stream",
     "text": [
      "Distancia Euclidiana\n",
      "-------------------------------------------------------------\n",
      "Solución\n",
      "Persona   ->  Persona Similar   ->   Valor de Similitud\n",
      "Zhen  ->  Praveena  ->  6.708203932499369\n"
     ]
    }
   ],
   "source": [
    "from neo4j import GraphDatabase\n",
    "\n",
    "uri = \"bolt://localhost:7687\"\n",
    "driver = GraphDatabase.driver(uri, auth=(\"neo4j\", \"5658\"),encrypted=False)\n",
    "    \n",
    "personas = []\n",
    "similares = []\n",
    "similitud = []\n",
    "def get_ed(tx):\n",
    "    result = tx.run(\"MATCH (p1:Person {name: 'Zhen'})-[likes1:LIKES]->(cuisine) \"\n",
    "                    \"MATCH (p2:Person {name: 'Praveena'})-[likes2:LIKES]->(cuisine) \"\n",
    "                    \"RETURN p1.name AS from, p2.name AS to, \"\n",
    "                    \"gds.alpha.similarity.euclideanDistance(collect(likes1.score), collect(likes2.score)) AS similarity\")\n",
    "    for record in result:\n",
    "        personas.append(record[\"from\"])\n",
    "        similares.append(record[\"to\"])\n",
    "        similitud.append(record[\"similarity\"])\n",
    "\n",
    "print(\"Distancia Euclidiana\")\n",
    "print(\"-------------------------------------------------------------\")\n",
    "with driver.session() as session:\n",
    "    ciudades = session.read_transaction(get_ed)\n",
    "    print(\"Solución\")\n",
    "    print(\"Persona \", \" -> \", \"Persona Similar \", \" -> \", \" Valor de Similitud\")\n",
    "    for i in range(len(personas)):\n",
    "        print(personas[i], \" -> \", similares[i],\" -> \", similitud[i])\n",
    "                       \n",
    "driver.close()"
   ]
  },
  {
   "cell_type": "code",
   "execution_count": 8,
   "metadata": {},
   "outputs": [
    {
     "name": "stdout",
     "output_type": "stream",
     "text": [
      "Distancia Euclideana\n",
      "-------------------------------------------------------------\n",
      "Solución\n",
      "Persona   ->  Persona Similar   ->   Valor de Similitud\n",
      "Zhen  ->  Praveena  ->  6.708203932499369\n",
      "Zhen  ->  Michael  ->  3.605551275463989\n"
     ]
    }
   ],
   "source": [
    "from neo4j import GraphDatabase\n",
    "\n",
    "uri = \"bolt://localhost:7687\"\n",
    "driver = GraphDatabase.driver(uri, auth=(\"neo4j\", \"5658\"),encrypted=False)\n",
    "    \n",
    "personas = []\n",
    "similares = []\n",
    "similitud = []\n",
    "def get_ed(tx):\n",
    "    result = tx.run(\"MATCH (p1:Person {name: 'Zhen'})-[likes1:LIKES]->(cuisine) \"\n",
    "                    \"MATCH (p2:Person)-[likes2:LIKES]->(cuisine) WHERE p1<>p2 \"\n",
    "                    \"RETURN p1.name AS from, p2.name AS to, \"\n",
    "                    \"gds.alpha.similarity.euclideanDistance(collect(likes1.score), collect(likes2.score)) AS similarity\")\n",
    "    for record in result:\n",
    "        personas.append(record[\"from\"])\n",
    "        similares.append(record[\"to\"])\n",
    "        similitud.append(record[\"similarity\"])\n",
    "\n",
    "print(\"Distancia Euclideana\")\n",
    "print(\"-------------------------------------------------------------\")\n",
    "with driver.session() as session:\n",
    "    ciudades = session.read_transaction(get_ed)\n",
    "    print(\"Solución\")\n",
    "    print(\"Persona \", \" -> \", \"Persona Similar \", \" -> \", \" Valor de Similitud\")\n",
    "    for i in range(len(personas)):\n",
    "        print(personas[i], \" -> \", similares[i],\" -> \", similitud[i])\n",
    "                       \n",
    "driver.close()"
   ]
  },
  {
   "cell_type": "markdown",
   "metadata": {},
   "source": [
    "# Ejemplo usando datos reales\n",
    "\n",
    "## Lugares Turisticos Guayaquil\n",
    "\n",
    "Identificar el grado de similitud entre datos que voy a ingresar como vector y comparar lugares turisticos, en el caso de que de cero significa que son completamente identicos.\n",
    "\n",
    "datos=[\"Mediano\",\"si\",\"no\",\"si\",\"no\"]\n",
    "datos=[2,1,0,1,0]"
   ]
  },
  {
   "cell_type": "raw",
   "metadata": {},
   "source": [
    "MATCH (n:LugarTuristico)\n",
    "UNWIND [n.tam,n.tiendas,n.averdes,n.aextremas,n.gal] AS v \n",
    "WITH n, collect(CASE v WHEN 'Grande'  THEN 3 \n",
    "                       WHEN 'Mediano' THEN 2 \n",
    "                       WHEN 'Pequeño'THEN 1 \n",
    "                       WHEN 'si'THEN 1 \n",
    "                       WHEN 'no'THEN 0 \n",
    "                       END) as vector \n",
    "RETURN n.nombre AS Lugar, gds.alpha.similarity.euclideanDistance([2,1,0,1,0],vector) as Sim \n",
    "ORDER BY Sim ASC"
   ]
  },
  {
   "cell_type": "markdown",
   "metadata": {},
   "source": [
    "### Resultado\n",
    "<img src=\"ed5.png\">\n",
    "\n",
    "Esto compara el nuevo lugar pasado como parametro con todos los nodos y de esta forma nos da ordenados de menor a mayor los datos y nos dic que eso lugares son mas similares al que ingrese."
   ]
  },
  {
   "cell_type": "markdown",
   "metadata": {},
   "source": [
    "# Mejoras y Recomendaciones\n",
    "\n",
    "Se puede hacer uso para proyectar predicciones en base a datos de entrenamiento y de prueba.\n",
    "\n",
    "Revisar adecuadamente la documentacion de Neo4j a veces hay errores de sintaxis."
   ]
  },
  {
   "cell_type": "markdown",
   "metadata": {},
   "source": [
    "# Conclusiones y Trabajos \n",
    "Puedo concluir que el uso de este algoritmo nos ayuda con la obtencion de la similitud entre nodos en base a determinadas caracteristicas, que deben ser numericas y se pasan al algoritmo como vectores."
   ]
  }
 ],
 "metadata": {
  "kernelspec": {
   "display_name": "Python 3",
   "language": "python",
   "name": "python3"
  },
  "language_info": {
   "codemirror_mode": {
    "name": "ipython",
    "version": 3
   },
   "file_extension": ".py",
   "mimetype": "text/x-python",
   "name": "python",
   "nbconvert_exporter": "python",
   "pygments_lexer": "ipython3",
   "version": "3.7.6"
  }
 },
 "nbformat": 4,
 "nbformat_minor": 4
}
